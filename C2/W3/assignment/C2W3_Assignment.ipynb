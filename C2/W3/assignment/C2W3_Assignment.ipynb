{
  "cells": [
    {
      "cell_type": "markdown",
      "metadata": {
        "id": "f8cj-HBNoEZy"
      },
      "source": [
        "# Week 3: Transfer Learning\n",
        "\n",
        "Welcome to this assignment! This week, you are going to use a technique called `Transfer Learning` in which you utilize an already trained network to help you solve a similar problem to the one it was originally trained to solve.\n",
        "\n",
        "Let's get started!"
      ],
      "id": "f8cj-HBNoEZy"
    },
    {
      "cell_type": "code",
      "execution_count": 1,
      "metadata": {
        "id": "lbFmQdsZs5eW",
        "tags": [
          "graded"
        ]
      },
      "outputs": [],
      "source": [
        "import os\n",
        "import zipfile\n",
        "import matplotlib.pyplot as plt\n",
        "import tensorflow as tf\n",
        "from tensorflow.keras import layers\n",
        "from tensorflow.keras import Model\n",
        "from tensorflow.keras.optimizers import RMSprop\n",
        "from tensorflow.keras.preprocessing.image import ImageDataGenerator\n",
        "from tensorflow.keras.utils import img_to_array, load_img"
      ],
      "id": "lbFmQdsZs5eW"
    },
    {
      "cell_type": "markdown",
      "metadata": {
        "id": "RPvtLK1GyUWr"
      },
      "source": [
        "## Dataset\n",
        "\n",
        "For this assignment, you will use the `Horse or Human dataset`, which contains images of horses and humans. \n",
        "\n",
        "Download the `training` and `validation` sets by running the cell below:"
      ],
      "id": "RPvtLK1GyUWr"
    },
    {
      "cell_type": "code",
      "execution_count": 2,
      "metadata": {
        "id": "dIeTNcPEo79J",
        "tags": []
      },
      "outputs": [],
      "source": [
        "# Get the Horse or Human training dataset\n",
        "!wget -q -P /content/ https://storage.googleapis.com/tensorflow-1-public/course2/week3/horse-or-human.zip\n",
        "\n",
        "# Get the Horse or Human validation dataset\n",
        "!wget -q -P /content/ https://storage.googleapis.com/tensorflow-1-public/course2/week3/validation-horse-or-human.zip\n",
        "\n",
        "test_local_zip = './horse-or-human.zip'\n",
        "zip_ref = zipfile.ZipFile(test_local_zip, 'r')\n",
        "zip_ref.extractall('/tmp/training')\n",
        "\n",
        "val_local_zip = './validation-horse-or-human.zip'\n",
        "zip_ref = zipfile.ZipFile(val_local_zip, 'r')\n",
        "zip_ref.extractall('/tmp/validation')\n",
        "\n",
        "zip_ref.close()"
      ],
      "id": "dIeTNcPEo79J"
    },
    {
      "cell_type": "markdown",
      "metadata": {
        "id": "x4OMDxYS6tmv"
      },
      "source": [
        "This dataset already has an structure that is compatible with Keras' `flow_from_directory` so you don't need to move the images into subdirectories as you did in the previous assignments. However, it is still a good idea to save the paths of the images so you can use them later on:"
      ],
      "id": "x4OMDxYS6tmv"
    },
    {
      "cell_type": "code",
      "execution_count": 3,
      "metadata": {
        "id": "lHRrmo5CpEw_",
        "lines_to_next_cell": 2,
        "tags": [
          "graded"
        ],
        "colab": {
          "base_uri": "https://localhost:8080/"
        },
        "outputId": "710b6cdf-b615-4397-dd52-b1955d113199"
      },
      "outputs": [
        {
          "output_type": "stream",
          "name": "stdout",
          "text": [
            "There are 500 images of horses for training.\n",
            "\n",
            "There are 527 images of humans for training.\n",
            "\n",
            "There are 128 images of horses for validation.\n",
            "\n",
            "There are 128 images of humans for validation.\n",
            "\n"
          ]
        }
      ],
      "source": [
        "# Define the training and validation base directories\n",
        "train_dir = '/tmp/training'\n",
        "validation_dir = '/tmp/validation'\n",
        "\n",
        "# Directory with training horse pictures\n",
        "train_horses_dir = os.path.join(train_dir, 'horses')\n",
        "# Directory with training humans pictures\n",
        "train_humans_dir = os.path.join(train_dir, 'humans')\n",
        "# Directory with validation horse pictures\n",
        "validation_horses_dir = os.path.join(validation_dir, 'horses')\n",
        "# Directory with validation human pictures\n",
        "validation_humans_dir = os.path.join(validation_dir, 'humans')\n",
        "\n",
        "# Check the number of images for each class and set\n",
        "print(f\"There are {len(os.listdir(train_horses_dir))} images of horses for training.\\n\")\n",
        "print(f\"There are {len(os.listdir(train_humans_dir))} images of humans for training.\\n\")\n",
        "print(f\"There are {len(os.listdir(validation_horses_dir))} images of horses for validation.\\n\")\n",
        "print(f\"There are {len(os.listdir(validation_humans_dir))} images of humans for validation.\\n\")"
      ],
      "id": "lHRrmo5CpEw_"
    },
    {
      "cell_type": "markdown",
      "metadata": {
        "id": "1G5hXBB57c78"
      },
      "source": [
        "Now take a look at a sample image of each one of the classes:"
      ],
      "id": "1G5hXBB57c78"
    },
    {
      "cell_type": "code",
      "execution_count": 4,
      "metadata": {
        "id": "HgbMs7p0qSKr",
        "tags": [
          "graded"
        ],
        "colab": {
          "base_uri": "https://localhost:8080/",
          "height": 573
        },
        "outputId": "c166b9c6-1cb8-477d-9288-c9b76468ba92"
      },
      "outputs": [
        {
          "output_type": "stream",
          "name": "stdout",
          "text": [
            "Sample horse image:\n"
          ]
        },
        {
          "output_type": "display_data",
          "data": {
            "text/plain": [
              "<Figure size 432x288 with 1 Axes>"
            ],
            "image/png": "[encoded data removed]"
          },
          "metadata": {
            "needs_background": "light"
          }
        },
        {
          "output_type": "stream",
          "name": "stdout",
          "text": [
            "\n",
            "Sample human image:\n"
          ]
        },
        {
          "output_type": "display_data",
          "data": {
            "text/plain": [
              "<Figure size 432x288 with 1 Axes>"
            ],
            "image/png": "[encoded data removed]"
          },
          "metadata": {
            "needs_background": "light"
          }
        }
      ],
      "source": [
        "print(\"Sample horse image:\")\n",
        "plt.imshow(load_img(f\"{os.path.join(train_horses_dir, os.listdir(train_horses_dir)[0])}\"))\n",
        "plt.show()\n",
        "\n",
        "print(\"\\nSample human image:\")\n",
        "plt.imshow(load_img(f\"{os.path.join(train_humans_dir, os.listdir(train_humans_dir)[0])}\"))\n",
        "plt.show()"
      ],
      "id": "HgbMs7p0qSKr"
    },
    {
      "cell_type": "markdown",
      "metadata": {
        "id": "LBnbnY0c8Zd0"
      },
      "source": [
        "`matplotlib` makes it easy to see that these images have a resolution of 300x300 and are colored, but you can double check this by using the code below:"
      ],
      "id": "LBnbnY0c8Zd0"
    },
    {
      "cell_type": "code",
      "execution_count": 5,
      "metadata": {
        "id": "4lIGjHC5pxua",
        "tags": [
          "graded"
        ],
        "colab": {
          "base_uri": "https://localhost:8080/"
        },
        "outputId": "0fd03b22-3607-4932-ac36-d95c536e24ea"
      },
      "outputs": [
        {
          "output_type": "stream",
          "name": "stdout",
          "text": [
            "Each image has shape: (300, 300, 3)\n"
          ]
        }
      ],
      "source": [
        "# Load the first example of a horse\n",
        "sample_image  = load_img(f\"{os.path.join(train_horses_dir, os.listdir(train_horses_dir)[0])}\")\n",
        "\n",
        "# Convert the image into its numpy array representation\n",
        "sample_array = img_to_array(sample_image)\n",
        "\n",
        "print(f\"Each image has shape: {sample_array.shape}\")"
      ],
      "id": "4lIGjHC5pxua"
    },
    {
      "cell_type": "markdown",
      "metadata": {
        "id": "4fYwAYyd8zEm"
      },
      "source": [
        "As expected, the sample image has a resolution of 300x300 and the last dimension is used for each one of the RGB channels to represent color."
      ],
      "id": "4fYwAYyd8zEm"
    },
    {
      "cell_type": "markdown",
      "metadata": {
        "id": "6HcE1TSqNRY2"
      },
      "source": [
        "## Training and Validation Generators\n",
        "\n",
        "Now that you know the images you are dealing with, it is time for you to code the generators that will fed these images to your Network. For this, complete the `train_val_generators` function below:\n",
        "\n",
        "**Important Note:** The images have a resolution of 300x300 but the `flow_from_directory` method you will use allows you to set a target resolution. In this case, **set a `target_size` of (150, 150)**. This will heavily lower the number of trainable parameters in your final network, yielding much quicker training times without compromising the accuracy!"
      ],
      "id": "6HcE1TSqNRY2"
    },
    {
      "cell_type": "code",
      "execution_count": 59,
      "metadata": {
        "cellView": "code",
        "id": "AX5Q3NL_FXMT",
        "tags": [
          "graded"
        ]
      },
      "outputs": [],
      "source": [
        "# GRADED FUNCTION: train_val_generators\n",
        "def train_val_generators(TRAINING_DIR, VALIDATION_DIR):\n",
        "  \"\"\"\n",
        "  Creates the training and validation data generators\n",
        "  \n",
        "  Args:\n",
        "    TRAINING_DIR (string): directory path containing the training images\n",
        "    VALIDATION_DIR (string): directory path containing the testing/validation images\n",
        "    \n",
        "  Returns:\n",
        "    train_generator, validation_generator: tuple containing the generators\n",
        "  \"\"\"\n",
        "  ### START CODE HERE\n",
        "\n",
        "  # Instantiate the ImageDataGenerator class \n",
        "  # Don't forget to normalize pixel values and set arguments to augment the images \n",
        "  train_datagen = ImageDataGenerator(rescale=1.0/255.0,\n",
        "                                     rotation_range=45,\n",
        "                                     height_shift_range=0.1,\n",
        "                                     width_shift_range=0.1,\n",
        "                                     shear_range=0.2,\n",
        "                                     zoom_range=0.1,\n",
        "                                     horizontal_flip=True)\n",
        "\n",
        "  # Pass in the appropriate arguments to the flow_from_directory method\n",
        "  train_generator = train_datagen.flow_from_directory(directory=TRAINING_DIR,\n",
        "                                                      batch_size=32, \n",
        "                                                      class_mode='binary',\n",
        "                                                      target_size=(150, 150))\n",
        "\n",
        "  # Instantiate the ImageDataGenerator class (don't forget to set the rescale argument)\n",
        "  # Remember that validation data should not be augmented\n",
        "  validation_datagen = ImageDataGenerator(rescale=1.0/255.0)\n",
        "\n",
        "  # Pass in the appropriate arguments to the flow_from_directory method\n",
        "  validation_generator = validation_datagen.flow_from_directory(directory=VALIDATION_DIR,\n",
        "                                                                batch_size=32, \n",
        "                                                                class_mode='binary',\n",
        "                                                                target_size=(150, 150))\n",
        "  ### END CODE HERE\n",
        "  return train_generator, validation_generator\n"
      ],
      "id": "AX5Q3NL_FXMT"
    },
    {
      "cell_type": "code",
      "execution_count": 60,
      "metadata": {
        "id": "8FLUUqMKFwVR",
        "tags": [
          "graded"
        ],
        "colab": {
          "base_uri": "https://localhost:8080/"
        },
        "outputId": "ea3fa4bd-6eae-48ce-89be-086c878f2214"
      },
      "outputs": [
        {
          "output_type": "stream",
          "name": "stdout",
          "text": [
            "Found 1027 images belonging to 2 classes.\n",
            "Found 256 images belonging to 2 classes.\n"
          ]
        }
      ],
      "source": [
        "# Test your generators\n",
        "train_generator, validation_generator = train_val_generators(train_dir, validation_dir)"
      ],
      "id": "8FLUUqMKFwVR"
    },
    {
      "cell_type": "markdown",
      "metadata": {
        "id": "TszKWhunQaj4"
      },
      "source": [
        "**Expected Output:**\n",
        "```\n",
        "Found 1027 images belonging to 2 classes.\n",
        "Found 256 images belonging to 2 classes.\n",
        "```"
      ],
      "id": "TszKWhunQaj4"
    },
    {
      "cell_type": "markdown",
      "metadata": {
        "id": "Izx51Ju1rXwd"
      },
      "source": [
        "## Transfer learning - Create the pre-trained model\n",
        "\n",
        "Download the `inception V3` weights into the `/tmp/` directory:"
      ],
      "id": "Izx51Ju1rXwd"
    },
    {
      "cell_type": "code",
      "execution_count": 29,
      "metadata": {
        "id": "-lEzPAqxrPcU",
        "tags": [],
        "colab": {
          "base_uri": "https://localhost:8080/"
        },
        "outputId": "6a6ef97c-4739-4ef7-a08b-078bca6608a8"
      },
      "outputs": [
        {
          "output_type": "stream",
          "name": "stdout",
          "text": [
            "--2022-12-28 20:04:06--  https://storage.googleapis.com/mledu-datasets/inception_v3_weights_tf_dim_ordering_tf_kernels_notop.h5\n",
            "Resolving storage.googleapis.com (storage.googleapis.com)... 74.125.197.128, 74.125.135.128, 142.250.99.128, ...\n",
            "Connecting to storage.googleapis.com (storage.googleapis.com)|74.125.197.128|:443... connected.\n",
            "HTTP request sent, awaiting response... 200 OK\n",
            "Length: 87910968 (84M) [application/x-hdf]\n",
            "Saving to: ‘/tmp/inception_v3_weights_tf_dim_ordering_tf_kernels_notop.h5’\n",
            "\n",
            "/tmp/inception_v3_w 100%[===================>]  83.84M   153MB/s    in 0.5s    \n",
            "\n",
            "2022-12-28 20:04:07 (153 MB/s) - ‘/tmp/inception_v3_weights_tf_dim_ordering_tf_kernels_notop.h5’ saved [87910968/87910968]\n",
            "\n"
          ]
        }
      ],
      "source": [
        "# Download the inception v3 weights\n",
        "!wget --no-check-certificate \\\n",
        "    https://storage.googleapis.com/mledu-datasets/inception_v3_weights_tf_dim_ordering_tf_kernels_notop.h5 \\\n",
        "    -O /tmp/inception_v3_weights_tf_dim_ordering_tf_kernels_notop.h5"
      ],
      "id": "-lEzPAqxrPcU"
    },
    {
      "cell_type": "markdown",
      "metadata": {
        "id": "_zlXNulm9USZ"
      },
      "source": [
        "Now load the `InceptionV3` model and save the path to the weights you just downloaded:"
      ],
      "id": "_zlXNulm9USZ"
    },
    {
      "cell_type": "code",
      "execution_count": 44,
      "metadata": {
        "id": "zfmRpsMf7E3-",
        "tags": [
          "graded"
        ]
      },
      "outputs": [],
      "source": [
        "# Import the inception model  \n",
        "from tensorflow.keras.applications.inception_v3 import InceptionV3\n",
        "\n",
        "# Create an instance of the inception model from the local pre-trained weights\n",
        "local_weights_file = '/tmp/inception_v3_weights_tf_dim_ordering_tf_kernels_notop.h5'"
      ],
      "id": "zfmRpsMf7E3-"
    },
    {
      "cell_type": "markdown",
      "metadata": {
        "id": "ZPQb0PkT9_3w"
      },
      "source": [
        "Complete the `create_pre_trained_model` function below. You should specify the correct `input_shape` for the model (remember that you set a new resolution for the images instead of the native 300x300) and make all of the layers non-trainable:"
      ],
      "id": "ZPQb0PkT9_3w"
    },
    {
      "cell_type": "code",
      "execution_count": 61,
      "metadata": {
        "cellView": "code",
        "id": "x2JnQ6m8r5oe",
        "tags": [
          "graded"
        ]
      },
      "outputs": [],
      "source": [
        "# GRADED FUNCTION: create_pre_trained_model\n",
        "def create_pre_trained_model(local_weights_file):\n",
        "  \"\"\"\n",
        "  Initializes an InceptionV3 model.\n",
        "  \n",
        "  Args:\n",
        "    local_weights_file (string): path pointing to a pretrained weights H5 file\n",
        "    \n",
        "  Returns:\n",
        "    pre_trained_model: the initialized InceptionV3 model\n",
        "  \"\"\"\n",
        "  ### START CODE HERE\n",
        "  pre_trained_model = InceptionV3(input_shape = (150, 150, 3),\n",
        "                                  include_top = False, \n",
        "                                  weights = None) \n",
        "\n",
        "  pre_trained_model.load_weights(local_weights_file)\n",
        "\n",
        "  # Make all the layers in the pre-trained model non-trainable\n",
        "  for layers in pre_trained_model.layers:\n",
        "    layers.trainable = False\n",
        "\n",
        "  ### END CODE HERE\n",
        "\n",
        "  return pre_trained_model\n",
        "  "
      ],
      "id": "x2JnQ6m8r5oe"
    },
    {
      "cell_type": "markdown",
      "metadata": {
        "id": "phE00SCr-RCT"
      },
      "source": [
        "Check that everything went well by comparing the last few rows of the model summary to the expected output:"
      ],
      "id": "phE00SCr-RCT"
    },
    {
      "cell_type": "code",
      "execution_count": 62,
      "metadata": {
        "id": "ve7eh9iztT4q",
        "tags": [
          "graded"
        ],
        "colab": {
          "base_uri": "https://localhost:8080/"
        },
        "outputId": "57b2552b-e987-417a-ad37-f7c419c84ac6"
      },
      "outputs": [
        {
          "output_type": "stream",
          "name": "stdout",
          "text": [
            "Model: \"inception_v3\"\n",
            "__________________________________________________________________________________________________\n",
            " Layer (type)                   Output Shape         Param #     Connected to                     \n",
            "==================================================================================================\n",
            " input_6 (InputLayer)           [(None, 150, 150, 3  0           []                               \n",
            "                                )]                                                                \n",
            "                                                                                                  \n",
            " conv2d_470 (Conv2D)            (None, 74, 74, 32)   864         ['input_6[0][0]']                \n",
            "                                                                                                  \n",
            " batch_normalization_470 (Batch  (None, 74, 74, 32)  96          ['conv2d_470[0][0]']             \n",
            " Normalization)                                                                                   \n",
            "                                                                                                  \n",
            " activation_470 (Activation)    (None, 74, 74, 32)   0           ['batch_normalization_470[0][0]']\n",
            "                                                                                                  \n",
            " conv2d_471 (Conv2D)            (None, 72, 72, 32)   9216        ['activation_470[0][0]']         \n",
            "                                                                                                  \n",
            " batch_normalization_471 (Batch  (None, 72, 72, 32)  96          ['conv2d_471[0][0]']             \n",
            " Normalization)                                                                                   \n",
            "                                                                                                  \n",
            " activation_471 (Activation)    (None, 72, 72, 32)   0           ['batch_normalization_471[0][0]']\n",
            "                                                                                                  \n",
            " conv2d_472 (Conv2D)            (None, 72, 72, 64)   18432       ['activation_471[0][0]']         \n",
            "                                                                                                  \n",
            " batch_normalization_472 (Batch  (None, 72, 72, 64)  192         ['conv2d_472[0][0]']             \n",
            " Normalization)                                                                                   \n",
            "                                                                                                  \n",
            " activation_472 (Activation)    (None, 72, 72, 64)   0           ['batch_normalization_472[0][0]']\n",
            "                                                                                                  \n",
            " max_pooling2d_20 (MaxPooling2D  (None, 35, 35, 64)  0           ['activation_472[0][0]']         \n",
            " )                                                                                                \n",
            "                                                                                                  \n",
            " conv2d_473 (Conv2D)            (None, 35, 35, 80)   5120        ['max_pooling2d_20[0][0]']       \n",
            "                                                                                                  \n",
            " batch_normalization_473 (Batch  (None, 35, 35, 80)  240         ['conv2d_473[0][0]']             \n",
            " Normalization)                                                                                   \n",
            "                                                                                                  \n",
            " activation_473 (Activation)    (None, 35, 35, 80)   0           ['batch_normalization_473[0][0]']\n",
            "                                                                                                  \n",
            " conv2d_474 (Conv2D)            (None, 33, 33, 192)  138240      ['activation_473[0][0]']         \n",
            "                                                                                                  \n",
            " batch_normalization_474 (Batch  (None, 33, 33, 192)  576        ['conv2d_474[0][0]']             \n",
            " Normalization)                                                                                   \n",
            "                                                                                                  \n",
            " activation_474 (Activation)    (None, 33, 33, 192)  0           ['batch_normalization_474[0][0]']\n",
            "                                                                                                  \n",
            " max_pooling2d_21 (MaxPooling2D  (None, 16, 16, 192)  0          ['activation_474[0][0]']         \n",
            " )                                                                                                \n",
            "                                                                                                  \n",
            " conv2d_478 (Conv2D)            (None, 16, 16, 64)   12288       ['max_pooling2d_21[0][0]']       \n",
            "                                                                                                  \n",
            " batch_normalization_478 (Batch  (None, 16, 16, 64)  192         ['conv2d_478[0][0]']             \n",
            " Normalization)                                                                                   \n",
            "                                                                                                  \n",
            " activation_478 (Activation)    (None, 16, 16, 64)   0           ['batch_normalization_478[0][0]']\n",
            "                                                                                                  \n",
            " conv2d_476 (Conv2D)            (None, 16, 16, 48)   9216        ['max_pooling2d_21[0][0]']       \n",
            "                                                                                                  \n",
            " conv2d_479 (Conv2D)            (None, 16, 16, 96)   55296       ['activation_478[0][0]']         \n",
            "                                                                                                  \n",
            " batch_normalization_476 (Batch  (None, 16, 16, 48)  144         ['conv2d_476[0][0]']             \n",
            " Normalization)                                                                                   \n",
            "                                                                                                  \n",
            " batch_normalization_479 (Batch  (None, 16, 16, 96)  288         ['conv2d_479[0][0]']             \n",
            " Normalization)                                                                                   \n",
            "                                                                                                  \n",
            " activation_476 (Activation)    (None, 16, 16, 48)   0           ['batch_normalization_476[0][0]']\n",
            "                                                                                                  \n",
            " activation_479 (Activation)    (None, 16, 16, 96)   0           ['batch_normalization_479[0][0]']\n",
            "                                                                                                  \n",
            " average_pooling2d_45 (AverageP  (None, 16, 16, 192)  0          ['max_pooling2d_21[0][0]']       \n",
            " ooling2D)                                                                                        \n",
            "                                                                                                  \n",
            " conv2d_475 (Conv2D)            (None, 16, 16, 64)   12288       ['max_pooling2d_21[0][0]']       \n",
            "                                                                                                  \n",
            " conv2d_477 (Conv2D)            (None, 16, 16, 64)   76800       ['activation_476[0][0]']         \n",
            "                                                                                                  \n",
            " conv2d_480 (Conv2D)            (None, 16, 16, 96)   82944       ['activation_479[0][0]']         \n",
            "                                                                                                  \n",
            " conv2d_481 (Conv2D)            (None, 16, 16, 32)   6144        ['average_pooling2d_45[0][0]']   \n",
            "                                                                                                  \n",
            " batch_normalization_475 (Batch  (None, 16, 16, 64)  192         ['conv2d_475[0][0]']             \n",
            " Normalization)                                                                                   \n",
            "                                                                                                  \n",
            " batch_normalization_477 (Batch  (None, 16, 16, 64)  192         ['conv2d_477[0][0]']             \n",
            " Normalization)                                                                                   \n",
            "                                                                                                  \n",
            " batch_normalization_480 (Batch  (None, 16, 16, 96)  288         ['conv2d_480[0][0]']             \n",
            " Normalization)                                                                                   \n",
            "                                                                                                  \n",
            " batch_normalization_481 (Batch  (None, 16, 16, 32)  96          ['conv2d_481[0][0]']             \n",
            " Normalization)                                                                                   \n",
            "                                                                                                  \n",
            " activation_475 (Activation)    (None, 16, 16, 64)   0           ['batch_normalization_475[0][0]']\n",
            "                                                                                                  \n",
            " activation_477 (Activation)    (None, 16, 16, 64)   0           ['batch_normalization_477[0][0]']\n",
            "                                                                                                  \n",
            " activation_480 (Activation)    (None, 16, 16, 96)   0           ['batch_normalization_480[0][0]']\n",
            "                                                                                                  \n",
            " activation_481 (Activation)    (None, 16, 16, 32)   0           ['batch_normalization_481[0][0]']\n",
            "                                                                                                  \n",
            " mixed0 (Concatenate)           (None, 16, 16, 256)  0           ['activation_475[0][0]',         \n",
            "                                                                  'activation_477[0][0]',         \n",
            "                                                                  'activation_480[0][0]',         \n",
            "                                                                  'activation_481[0][0]']         \n",
            "                                                                                                  \n",
            " conv2d_485 (Conv2D)            (None, 16, 16, 64)   16384       ['mixed0[0][0]']                 \n",
            "                                                                                                  \n",
            " batch_normalization_485 (Batch  (None, 16, 16, 64)  192         ['conv2d_485[0][0]']             \n",
            " Normalization)                                                                                   \n",
            "                                                                                                  \n",
            " activation_485 (Activation)    (None, 16, 16, 64)   0           ['batch_normalization_485[0][0]']\n",
            "                                                                                                  \n",
            " conv2d_483 (Conv2D)            (None, 16, 16, 48)   12288       ['mixed0[0][0]']                 \n",
            "                                                                                                  \n",
            " conv2d_486 (Conv2D)            (None, 16, 16, 96)   55296       ['activation_485[0][0]']         \n",
            "                                                                                                  \n",
            " batch_normalization_483 (Batch  (None, 16, 16, 48)  144         ['conv2d_483[0][0]']             \n",
            " Normalization)                                                                                   \n",
            "                                                                                                  \n",
            " batch_normalization_486 (Batch  (None, 16, 16, 96)  288         ['conv2d_486[0][0]']             \n",
            " Normalization)                                                                                   \n",
            "                                                                                                  \n",
            " activation_483 (Activation)    (None, 16, 16, 48)   0           ['batch_normalization_483[0][0]']\n",
            "                                                                                                  \n",
            " activation_486 (Activation)    (None, 16, 16, 96)   0           ['batch_normalization_486[0][0]']\n",
            "                                                                                                  \n",
            " average_pooling2d_46 (AverageP  (None, 16, 16, 256)  0          ['mixed0[0][0]']                 \n",
            " ooling2D)                                                                                        \n",
            "                                                                                                  \n",
            " conv2d_482 (Conv2D)            (None, 16, 16, 64)   16384       ['mixed0[0][0]']                 \n",
            "                                                                                                  \n",
            " conv2d_484 (Conv2D)            (None, 16, 16, 64)   76800       ['activation_483[0][0]']         \n",
            "                                                                                                  \n",
            " conv2d_487 (Conv2D)            (None, 16, 16, 96)   82944       ['activation_486[0][0]']         \n",
            "                                                                                                  \n",
            " conv2d_488 (Conv2D)            (None, 16, 16, 64)   16384       ['average_pooling2d_46[0][0]']   \n",
            "                                                                                                  \n",
            " batch_normalization_482 (Batch  (None, 16, 16, 64)  192         ['conv2d_482[0][0]']             \n",
            " Normalization)                                                                                   \n",
            "                                                                                                  \n",
            " batch_normalization_484 (Batch  (None, 16, 16, 64)  192         ['conv2d_484[0][0]']             \n",
            " Normalization)                                                                                   \n",
            "                                                                                                  \n",
            " batch_normalization_487 (Batch  (None, 16, 16, 96)  288         ['conv2d_487[0][0]']             \n",
            " Normalization)                                                                                   \n",
            "                                                                                                  \n",
            " batch_normalization_488 (Batch  (None, 16, 16, 64)  192         ['conv2d_488[0][0]']             \n",
            " Normalization)                                                                                   \n",
            "                                                                                                  \n",
            " activation_482 (Activation)    (None, 16, 16, 64)   0           ['batch_normalization_482[0][0]']\n",
            "                                                                                                  \n",
            " activation_484 (Activation)    (None, 16, 16, 64)   0           ['batch_normalization_484[0][0]']\n",
            "                                                                                                  \n",
            " activation_487 (Activation)    (None, 16, 16, 96)   0           ['batch_normalization_487[0][0]']\n",
            "                                                                                                  \n",
            " activation_488 (Activation)    (None, 16, 16, 64)   0           ['batch_normalization_488[0][0]']\n",
            "                                                                                                  \n",
            " mixed1 (Concatenate)           (None, 16, 16, 288)  0           ['activation_482[0][0]',         \n",
            "                                                                  'activation_484[0][0]',         \n",
            "                                                                  'activation_487[0][0]',         \n",
            "                                                                  'activation_488[0][0]']         \n",
            "                                                                                                  \n",
            " conv2d_492 (Conv2D)            (None, 16, 16, 64)   18432       ['mixed1[0][0]']                 \n",
            "                                                                                                  \n",
            " batch_normalization_492 (Batch  (None, 16, 16, 64)  192         ['conv2d_492[0][0]']             \n",
            " Normalization)                                                                                   \n",
            "                                                                                                  \n",
            " activation_492 (Activation)    (None, 16, 16, 64)   0           ['batch_normalization_492[0][0]']\n",
            "                                                                                                  \n",
            " conv2d_490 (Conv2D)            (None, 16, 16, 48)   13824       ['mixed1[0][0]']                 \n",
            "                                                                                                  \n",
            " conv2d_493 (Conv2D)            (None, 16, 16, 96)   55296       ['activation_492[0][0]']         \n",
            "                                                                                                  \n",
            " batch_normalization_490 (Batch  (None, 16, 16, 48)  144         ['conv2d_490[0][0]']             \n",
            " Normalization)                                                                                   \n",
            "                                                                                                  \n",
            " batch_normalization_493 (Batch  (None, 16, 16, 96)  288         ['conv2d_493[0][0]']             \n",
            " Normalization)                                                                                   \n",
            "                                                                                                  \n",
            " activation_490 (Activation)    (None, 16, 16, 48)   0           ['batch_normalization_490[0][0]']\n",
            "                                                                                                  \n",
            " activation_493 (Activation)    (None, 16, 16, 96)   0           ['batch_normalization_493[0][0]']\n",
            "                                                                                                  \n",
            " average_pooling2d_47 (AverageP  (None, 16, 16, 288)  0          ['mixed1[0][0]']                 \n",
            " ooling2D)                                                                                        \n",
            "                                                                                                  \n",
            " conv2d_489 (Conv2D)            (None, 16, 16, 64)   18432       ['mixed1[0][0]']                 \n",
            "                                                                                                  \n",
            " conv2d_491 (Conv2D)            (None, 16, 16, 64)   76800       ['activation_490[0][0]']         \n",
            "                                                                                                  \n",
            " conv2d_494 (Conv2D)            (None, 16, 16, 96)   82944       ['activation_493[0][0]']         \n",
            "                                                                                                  \n",
            " conv2d_495 (Conv2D)            (None, 16, 16, 64)   18432       ['average_pooling2d_47[0][0]']   \n",
            "                                                                                                  \n",
            " batch_normalization_489 (Batch  (None, 16, 16, 64)  192         ['conv2d_489[0][0]']             \n",
            " Normalization)                                                                                   \n",
            "                                                                                                  \n",
            " batch_normalization_491 (Batch  (None, 16, 16, 64)  192         ['conv2d_491[0][0]']             \n",
            " Normalization)                                                                                   \n",
            "                                                                                                  \n",
            " batch_normalization_494 (Batch  (None, 16, 16, 96)  288         ['conv2d_494[0][0]']             \n",
            " Normalization)                                                                                   \n",
            "                                                                                                  \n",
            " batch_normalization_495 (Batch  (None, 16, 16, 64)  192         ['conv2d_495[0][0]']             \n",
            " Normalization)                                                                                   \n",
            "                                                                                                  \n",
            " activation_489 (Activation)    (None, 16, 16, 64)   0           ['batch_normalization_489[0][0]']\n",
            "                                                                                                  \n",
            " activation_491 (Activation)    (None, 16, 16, 64)   0           ['batch_normalization_491[0][0]']\n",
            "                                                                                                  \n",
            " activation_494 (Activation)    (None, 16, 16, 96)   0           ['batch_normalization_494[0][0]']\n",
            "                                                                                                  \n",
            " activation_495 (Activation)    (None, 16, 16, 64)   0           ['batch_normalization_495[0][0]']\n",
            "                                                                                                  \n",
            " mixed2 (Concatenate)           (None, 16, 16, 288)  0           ['activation_489[0][0]',         \n",
            "                                                                  'activation_491[0][0]',         \n",
            "                                                                  'activation_494[0][0]',         \n",
            "                                                                  'activation_495[0][0]']         \n",
            "                                                                                                  \n",
            " conv2d_497 (Conv2D)            (None, 16, 16, 64)   18432       ['mixed2[0][0]']                 \n",
            "                                                                                                  \n",
            " batch_normalization_497 (Batch  (None, 16, 16, 64)  192         ['conv2d_497[0][0]']             \n",
            " Normalization)                                                                                   \n",
            "                                                                                                  \n",
            " activation_497 (Activation)    (None, 16, 16, 64)   0           ['batch_normalization_497[0][0]']\n",
            "                                                                                                  \n",
            " conv2d_498 (Conv2D)            (None, 16, 16, 96)   55296       ['activation_497[0][0]']         \n",
            "                                                                                                  \n",
            " batch_normalization_498 (Batch  (None, 16, 16, 96)  288         ['conv2d_498[0][0]']             \n",
            " Normalization)                                                                                   \n",
            "                                                                                                  \n",
            " activation_498 (Activation)    (None, 16, 16, 96)   0           ['batch_normalization_498[0][0]']\n",
            "                                                                                                  \n",
            " conv2d_496 (Conv2D)            (None, 7, 7, 384)    995328      ['mixed2[0][0]']                 \n",
            "                                                                                                  \n",
            " conv2d_499 (Conv2D)            (None, 7, 7, 96)     82944       ['activation_498[0][0]']         \n",
            "                                                                                                  \n",
            " batch_normalization_496 (Batch  (None, 7, 7, 384)   1152        ['conv2d_496[0][0]']             \n",
            " Normalization)                                                                                   \n",
            "                                                                                                  \n",
            " batch_normalization_499 (Batch  (None, 7, 7, 96)    288         ['conv2d_499[0][0]']             \n",
            " Normalization)                                                                                   \n",
            "                                                                                                  \n",
            " activation_496 (Activation)    (None, 7, 7, 384)    0           ['batch_normalization_496[0][0]']\n",
            "                                                                                                  \n",
            " activation_499 (Activation)    (None, 7, 7, 96)     0           ['batch_normalization_499[0][0]']\n",
            "                                                                                                  \n",
            " max_pooling2d_22 (MaxPooling2D  (None, 7, 7, 288)   0           ['mixed2[0][0]']                 \n",
            " )                                                                                                \n",
            "                                                                                                  \n",
            " mixed3 (Concatenate)           (None, 7, 7, 768)    0           ['activation_496[0][0]',         \n",
            "                                                                  'activation_499[0][0]',         \n",
            "                                                                  'max_pooling2d_22[0][0]']       \n",
            "                                                                                                  \n",
            " conv2d_504 (Conv2D)            (None, 7, 7, 128)    98304       ['mixed3[0][0]']                 \n",
            "                                                                                                  \n",
            " batch_normalization_504 (Batch  (None, 7, 7, 128)   384         ['conv2d_504[0][0]']             \n",
            " Normalization)                                                                                   \n",
            "                                                                                                  \n",
            " activation_504 (Activation)    (None, 7, 7, 128)    0           ['batch_normalization_504[0][0]']\n",
            "                                                                                                  \n",
            " conv2d_505 (Conv2D)            (None, 7, 7, 128)    114688      ['activation_504[0][0]']         \n",
            "                                                                                                  \n",
            " batch_normalization_505 (Batch  (None, 7, 7, 128)   384         ['conv2d_505[0][0]']             \n",
            " Normalization)                                                                                   \n",
            "                                                                                                  \n",
            " activation_505 (Activation)    (None, 7, 7, 128)    0           ['batch_normalization_505[0][0]']\n",
            "                                                                                                  \n",
            " conv2d_501 (Conv2D)            (None, 7, 7, 128)    98304       ['mixed3[0][0]']                 \n",
            "                                                                                                  \n",
            " conv2d_506 (Conv2D)            (None, 7, 7, 128)    114688      ['activation_505[0][0]']         \n",
            "                                                                                                  \n",
            " batch_normalization_501 (Batch  (None, 7, 7, 128)   384         ['conv2d_501[0][0]']             \n",
            " Normalization)                                                                                   \n",
            "                                                                                                  \n",
            " batch_normalization_506 (Batch  (None, 7, 7, 128)   384         ['conv2d_506[0][0]']             \n",
            " Normalization)                                                                                   \n",
            "                                                                                                  \n",
            " activation_501 (Activation)    (None, 7, 7, 128)    0           ['batch_normalization_501[0][0]']\n",
            "                                                                                                  \n",
            " activation_506 (Activation)    (None, 7, 7, 128)    0           ['batch_normalization_506[0][0]']\n",
            "                                                                                                  \n",
            " conv2d_502 (Conv2D)            (None, 7, 7, 128)    114688      ['activation_501[0][0]']         \n",
            "                                                                                                  \n",
            " conv2d_507 (Conv2D)            (None, 7, 7, 128)    114688      ['activation_506[0][0]']         \n",
            "                                                                                                  \n",
            " batch_normalization_502 (Batch  (None, 7, 7, 128)   384         ['conv2d_502[0][0]']             \n",
            " Normalization)                                                                                   \n",
            "                                                                                                  \n",
            " batch_normalization_507 (Batch  (None, 7, 7, 128)   384         ['conv2d_507[0][0]']             \n",
            " Normalization)                                                                                   \n",
            "                                                                                                  \n",
            " activation_502 (Activation)    (None, 7, 7, 128)    0           ['batch_normalization_502[0][0]']\n",
            "                                                                                                  \n",
            " activation_507 (Activation)    (None, 7, 7, 128)    0           ['batch_normalization_507[0][0]']\n",
            "                                                                                                  \n",
            " average_pooling2d_48 (AverageP  (None, 7, 7, 768)   0           ['mixed3[0][0]']                 \n",
            " ooling2D)                                                                                        \n",
            "                                                                                                  \n",
            " conv2d_500 (Conv2D)            (None, 7, 7, 192)    147456      ['mixed3[0][0]']                 \n",
            "                                                                                                  \n",
            " conv2d_503 (Conv2D)            (None, 7, 7, 192)    172032      ['activation_502[0][0]']         \n",
            "                                                                                                  \n",
            " conv2d_508 (Conv2D)            (None, 7, 7, 192)    172032      ['activation_507[0][0]']         \n",
            "                                                                                                  \n",
            " conv2d_509 (Conv2D)            (None, 7, 7, 192)    147456      ['average_pooling2d_48[0][0]']   \n",
            "                                                                                                  \n",
            " batch_normalization_500 (Batch  (None, 7, 7, 192)   576         ['conv2d_500[0][0]']             \n",
            " Normalization)                                                                                   \n",
            "                                                                                                  \n",
            " batch_normalization_503 (Batch  (None, 7, 7, 192)   576         ['conv2d_503[0][0]']             \n",
            " Normalization)                                                                                   \n",
            "                                                                                                  \n",
            " batch_normalization_508 (Batch  (None, 7, 7, 192)   576         ['conv2d_508[0][0]']             \n",
            " Normalization)                                                                                   \n",
            "                                                                                                  \n",
            " batch_normalization_509 (Batch  (None, 7, 7, 192)   576         ['conv2d_509[0][0]']             \n",
            " Normalization)                                                                                   \n",
            "                                                                                                  \n",
            " activation_500 (Activation)    (None, 7, 7, 192)    0           ['batch_normalization_500[0][0]']\n",
            "                                                                                                  \n",
            " activation_503 (Activation)    (None, 7, 7, 192)    0           ['batch_normalization_503[0][0]']\n",
            "                                                                                                  \n",
            " activation_508 (Activation)    (None, 7, 7, 192)    0           ['batch_normalization_508[0][0]']\n",
            "                                                                                                  \n",
            " activation_509 (Activation)    (None, 7, 7, 192)    0           ['batch_normalization_509[0][0]']\n",
            "                                                                                                  \n",
            " mixed4 (Concatenate)           (None, 7, 7, 768)    0           ['activation_500[0][0]',         \n",
            "                                                                  'activation_503[0][0]',         \n",
            "                                                                  'activation_508[0][0]',         \n",
            "                                                                  'activation_509[0][0]']         \n",
            "                                                                                                  \n",
            " conv2d_514 (Conv2D)            (None, 7, 7, 160)    122880      ['mixed4[0][0]']                 \n",
            "                                                                                                  \n",
            " batch_normalization_514 (Batch  (None, 7, 7, 160)   480         ['conv2d_514[0][0]']             \n",
            " Normalization)                                                                                   \n",
            "                                                                                                  \n",
            " activation_514 (Activation)    (None, 7, 7, 160)    0           ['batch_normalization_514[0][0]']\n",
            "                                                                                                  \n",
            " conv2d_515 (Conv2D)            (None, 7, 7, 160)    179200      ['activation_514[0][0]']         \n",
            "                                                                                                  \n",
            " batch_normalization_515 (Batch  (None, 7, 7, 160)   480         ['conv2d_515[0][0]']             \n",
            " Normalization)                                                                                   \n",
            "                                                                                                  \n",
            " activation_515 (Activation)    (None, 7, 7, 160)    0           ['batch_normalization_515[0][0]']\n",
            "                                                                                                  \n",
            " conv2d_511 (Conv2D)            (None, 7, 7, 160)    122880      ['mixed4[0][0]']                 \n",
            "                                                                                                  \n",
            " conv2d_516 (Conv2D)            (None, 7, 7, 160)    179200      ['activation_515[0][0]']         \n",
            "                                                                                                  \n",
            " batch_normalization_511 (Batch  (None, 7, 7, 160)   480         ['conv2d_511[0][0]']             \n",
            " Normalization)                                                                                   \n",
            "                                                                                                  \n",
            " batch_normalization_516 (Batch  (None, 7, 7, 160)   480         ['conv2d_516[0][0]']             \n",
            " Normalization)                                                                                   \n",
            "                                                                                                  \n",
            " activation_511 (Activation)    (None, 7, 7, 160)    0           ['batch_normalization_511[0][0]']\n",
            "                                                                                                  \n",
            " activation_516 (Activation)    (None, 7, 7, 160)    0           ['batch_normalization_516[0][0]']\n",
            "                                                                                                  \n",
            " conv2d_512 (Conv2D)            (None, 7, 7, 160)    179200      ['activation_511[0][0]']         \n",
            "                                                                                                  \n",
            " conv2d_517 (Conv2D)            (None, 7, 7, 160)    179200      ['activation_516[0][0]']         \n",
            "                                                                                                  \n",
            " batch_normalization_512 (Batch  (None, 7, 7, 160)   480         ['conv2d_512[0][0]']             \n",
            " Normalization)                                                                                   \n",
            "                                                                                                  \n",
            " batch_normalization_517 (Batch  (None, 7, 7, 160)   480         ['conv2d_517[0][0]']             \n",
            " Normalization)                                                                                   \n",
            "                                                                                                  \n",
            " activation_512 (Activation)    (None, 7, 7, 160)    0           ['batch_normalization_512[0][0]']\n",
            "                                                                                                  \n",
            " activation_517 (Activation)    (None, 7, 7, 160)    0           ['batch_normalization_517[0][0]']\n",
            "                                                                                                  \n",
            " average_pooling2d_49 (AverageP  (None, 7, 7, 768)   0           ['mixed4[0][0]']                 \n",
            " ooling2D)                                                                                        \n",
            "                                                                                                  \n",
            " conv2d_510 (Conv2D)            (None, 7, 7, 192)    147456      ['mixed4[0][0]']                 \n",
            "                                                                                                  \n",
            " conv2d_513 (Conv2D)            (None, 7, 7, 192)    215040      ['activation_512[0][0]']         \n",
            "                                                                                                  \n",
            " conv2d_518 (Conv2D)            (None, 7, 7, 192)    215040      ['activation_517[0][0]']         \n",
            "                                                                                                  \n",
            " conv2d_519 (Conv2D)            (None, 7, 7, 192)    147456      ['average_pooling2d_49[0][0]']   \n",
            "                                                                                                  \n",
            " batch_normalization_510 (Batch  (None, 7, 7, 192)   576         ['conv2d_510[0][0]']             \n",
            " Normalization)                                                                                   \n",
            "                                                                                                  \n",
            " batch_normalization_513 (Batch  (None, 7, 7, 192)   576         ['conv2d_513[0][0]']             \n",
            " Normalization)                                                                                   \n",
            "                                                                                                  \n",
            " batch_normalization_518 (Batch  (None, 7, 7, 192)   576         ['conv2d_518[0][0]']             \n",
            " Normalization)                                                                                   \n",
            "                                                                                                  \n",
            " batch_normalization_519 (Batch  (None, 7, 7, 192)   576         ['conv2d_519[0][0]']             \n",
            " Normalization)                                                                                   \n",
            "                                                                                                  \n",
            " activation_510 (Activation)    (None, 7, 7, 192)    0           ['batch_normalization_510[0][0]']\n",
            "                                                                                                  \n",
            " activation_513 (Activation)    (None, 7, 7, 192)    0           ['batch_normalization_513[0][0]']\n",
            "                                                                                                  \n",
            " activation_518 (Activation)    (None, 7, 7, 192)    0           ['batch_normalization_518[0][0]']\n",
            "                                                                                                  \n",
            " activation_519 (Activation)    (None, 7, 7, 192)    0           ['batch_normalization_519[0][0]']\n",
            "                                                                                                  \n",
            " mixed5 (Concatenate)           (None, 7, 7, 768)    0           ['activation_510[0][0]',         \n",
            "                                                                  'activation_513[0][0]',         \n",
            "                                                                  'activation_518[0][0]',         \n",
            "                                                                  'activation_519[0][0]']         \n",
            "                                                                                                  \n",
            " conv2d_524 (Conv2D)            (None, 7, 7, 160)    122880      ['mixed5[0][0]']                 \n",
            "                                                                                                  \n",
            " batch_normalization_524 (Batch  (None, 7, 7, 160)   480         ['conv2d_524[0][0]']             \n",
            " Normalization)                                                                                   \n",
            "                                                                                                  \n",
            " activation_524 (Activation)    (None, 7, 7, 160)    0           ['batch_normalization_524[0][0]']\n",
            "                                                                                                  \n",
            " conv2d_525 (Conv2D)            (None, 7, 7, 160)    179200      ['activation_524[0][0]']         \n",
            "                                                                                                  \n",
            " batch_normalization_525 (Batch  (None, 7, 7, 160)   480         ['conv2d_525[0][0]']             \n",
            " Normalization)                                                                                   \n",
            "                                                                                                  \n",
            " activation_525 (Activation)    (None, 7, 7, 160)    0           ['batch_normalization_525[0][0]']\n",
            "                                                                                                  \n",
            " conv2d_521 (Conv2D)            (None, 7, 7, 160)    122880      ['mixed5[0][0]']                 \n",
            "                                                                                                  \n",
            " conv2d_526 (Conv2D)            (None, 7, 7, 160)    179200      ['activation_525[0][0]']         \n",
            "                                                                                                  \n",
            " batch_normalization_521 (Batch  (None, 7, 7, 160)   480         ['conv2d_521[0][0]']             \n",
            " Normalization)                                                                                   \n",
            "                                                                                                  \n",
            " batch_normalization_526 (Batch  (None, 7, 7, 160)   480         ['conv2d_526[0][0]']             \n",
            " Normalization)                                                                                   \n",
            "                                                                                                  \n",
            " activation_521 (Activation)    (None, 7, 7, 160)    0           ['batch_normalization_521[0][0]']\n",
            "                                                                                                  \n",
            " activation_526 (Activation)    (None, 7, 7, 160)    0           ['batch_normalization_526[0][0]']\n",
            "                                                                                                  \n",
            " conv2d_522 (Conv2D)            (None, 7, 7, 160)    179200      ['activation_521[0][0]']         \n",
            "                                                                                                  \n",
            " conv2d_527 (Conv2D)            (None, 7, 7, 160)    179200      ['activation_526[0][0]']         \n",
            "                                                                                                  \n",
            " batch_normalization_522 (Batch  (None, 7, 7, 160)   480         ['conv2d_522[0][0]']             \n",
            " Normalization)                                                                                   \n",
            "                                                                                                  \n",
            " batch_normalization_527 (Batch  (None, 7, 7, 160)   480         ['conv2d_527[0][0]']             \n",
            " Normalization)                                                                                   \n",
            "                                                                                                  \n",
            " activation_522 (Activation)    (None, 7, 7, 160)    0           ['batch_normalization_522[0][0]']\n",
            "                                                                                                  \n",
            " activation_527 (Activation)    (None, 7, 7, 160)    0           ['batch_normalization_527[0][0]']\n",
            "                                                                                                  \n",
            " average_pooling2d_50 (AverageP  (None, 7, 7, 768)   0           ['mixed5[0][0]']                 \n",
            " ooling2D)                                                                                        \n",
            "                                                                                                  \n",
            " conv2d_520 (Conv2D)            (None, 7, 7, 192)    147456      ['mixed5[0][0]']                 \n",
            "                                                                                                  \n",
            " conv2d_523 (Conv2D)            (None, 7, 7, 192)    215040      ['activation_522[0][0]']         \n",
            "                                                                                                  \n",
            " conv2d_528 (Conv2D)            (None, 7, 7, 192)    215040      ['activation_527[0][0]']         \n",
            "                                                                                                  \n",
            " conv2d_529 (Conv2D)            (None, 7, 7, 192)    147456      ['average_pooling2d_50[0][0]']   \n",
            "                                                                                                  \n",
            " batch_normalization_520 (Batch  (None, 7, 7, 192)   576         ['conv2d_520[0][0]']             \n",
            " Normalization)                                                                                   \n",
            "                                                                                                  \n",
            " batch_normalization_523 (Batch  (None, 7, 7, 192)   576         ['conv2d_523[0][0]']             \n",
            " Normalization)                                                                                   \n",
            "                                                                                                  \n",
            " batch_normalization_528 (Batch  (None, 7, 7, 192)   576         ['conv2d_528[0][0]']             \n",
            " Normalization)                                                                                   \n",
            "                                                                                                  \n",
            " batch_normalization_529 (Batch  (None, 7, 7, 192)   576         ['conv2d_529[0][0]']             \n",
            " Normalization)                                                                                   \n",
            "                                                                                                  \n",
            " activation_520 (Activation)    (None, 7, 7, 192)    0           ['batch_normalization_520[0][0]']\n",
            "                                                                                                  \n",
            " activation_523 (Activation)    (None, 7, 7, 192)    0           ['batch_normalization_523[0][0]']\n",
            "                                                                                                  \n",
            " activation_528 (Activation)    (None, 7, 7, 192)    0           ['batch_normalization_528[0][0]']\n",
            "                                                                                                  \n",
            " activation_529 (Activation)    (None, 7, 7, 192)    0           ['batch_normalization_529[0][0]']\n",
            "                                                                                                  \n",
            " mixed6 (Concatenate)           (None, 7, 7, 768)    0           ['activation_520[0][0]',         \n",
            "                                                                  'activation_523[0][0]',         \n",
            "                                                                  'activation_528[0][0]',         \n",
            "                                                                  'activation_529[0][0]']         \n",
            "                                                                                                  \n",
            " conv2d_534 (Conv2D)            (None, 7, 7, 192)    147456      ['mixed6[0][0]']                 \n",
            "                                                                                                  \n",
            " batch_normalization_534 (Batch  (None, 7, 7, 192)   576         ['conv2d_534[0][0]']             \n",
            " Normalization)                                                                                   \n",
            "                                                                                                  \n",
            " activation_534 (Activation)    (None, 7, 7, 192)    0           ['batch_normalization_534[0][0]']\n",
            "                                                                                                  \n",
            " conv2d_535 (Conv2D)            (None, 7, 7, 192)    258048      ['activation_534[0][0]']         \n",
            "                                                                                                  \n",
            " batch_normalization_535 (Batch  (None, 7, 7, 192)   576         ['conv2d_535[0][0]']             \n",
            " Normalization)                                                                                   \n",
            "                                                                                                  \n",
            " activation_535 (Activation)    (None, 7, 7, 192)    0           ['batch_normalization_535[0][0]']\n",
            "                                                                                                  \n",
            " conv2d_531 (Conv2D)            (None, 7, 7, 192)    147456      ['mixed6[0][0]']                 \n",
            "                                                                                                  \n",
            " conv2d_536 (Conv2D)            (None, 7, 7, 192)    258048      ['activation_535[0][0]']         \n",
            "                                                                                                  \n",
            " batch_normalization_531 (Batch  (None, 7, 7, 192)   576         ['conv2d_531[0][0]']             \n",
            " Normalization)                                                                                   \n",
            "                                                                                                  \n",
            " batch_normalization_536 (Batch  (None, 7, 7, 192)   576         ['conv2d_536[0][0]']             \n",
            " Normalization)                                                                                   \n",
            "                                                                                                  \n",
            " activation_531 (Activation)    (None, 7, 7, 192)    0           ['batch_normalization_531[0][0]']\n",
            "                                                                                                  \n",
            " activation_536 (Activation)    (None, 7, 7, 192)    0           ['batch_normalization_536[0][0]']\n",
            "                                                                                                  \n",
            " conv2d_532 (Conv2D)            (None, 7, 7, 192)    258048      ['activation_531[0][0]']         \n",
            "                                                                                                  \n",
            " conv2d_537 (Conv2D)            (None, 7, 7, 192)    258048      ['activation_536[0][0]']         \n",
            "                                                                                                  \n",
            " batch_normalization_532 (Batch  (None, 7, 7, 192)   576         ['conv2d_532[0][0]']             \n",
            " Normalization)                                                                                   \n",
            "                                                                                                  \n",
            " batch_normalization_537 (Batch  (None, 7, 7, 192)   576         ['conv2d_537[0][0]']             \n",
            " Normalization)                                                                                   \n",
            "                                                                                                  \n",
            " activation_532 (Activation)    (None, 7, 7, 192)    0           ['batch_normalization_532[0][0]']\n",
            "                                                                                                  \n",
            " activation_537 (Activation)    (None, 7, 7, 192)    0           ['batch_normalization_537[0][0]']\n",
            "                                                                                                  \n",
            " average_pooling2d_51 (AverageP  (None, 7, 7, 768)   0           ['mixed6[0][0]']                 \n",
            " ooling2D)                                                                                        \n",
            "                                                                                                  \n",
            " conv2d_530 (Conv2D)            (None, 7, 7, 192)    147456      ['mixed6[0][0]']                 \n",
            "                                                                                                  \n",
            " conv2d_533 (Conv2D)            (None, 7, 7, 192)    258048      ['activation_532[0][0]']         \n",
            "                                                                                                  \n",
            " conv2d_538 (Conv2D)            (None, 7, 7, 192)    258048      ['activation_537[0][0]']         \n",
            "                                                                                                  \n",
            " conv2d_539 (Conv2D)            (None, 7, 7, 192)    147456      ['average_pooling2d_51[0][0]']   \n",
            "                                                                                                  \n",
            " batch_normalization_530 (Batch  (None, 7, 7, 192)   576         ['conv2d_530[0][0]']             \n",
            " Normalization)                                                                                   \n",
            "                                                                                                  \n",
            " batch_normalization_533 (Batch  (None, 7, 7, 192)   576         ['conv2d_533[0][0]']             \n",
            " Normalization)                                                                                   \n",
            "                                                                                                  \n",
            " batch_normalization_538 (Batch  (None, 7, 7, 192)   576         ['conv2d_538[0][0]']             \n",
            " Normalization)                                                                                   \n",
            "                                                                                                  \n",
            " batch_normalization_539 (Batch  (None, 7, 7, 192)   576         ['conv2d_539[0][0]']             \n",
            " Normalization)                                                                                   \n",
            "                                                                                                  \n",
            " activation_530 (Activation)    (None, 7, 7, 192)    0           ['batch_normalization_530[0][0]']\n",
            "                                                                                                  \n",
            " activation_533 (Activation)    (None, 7, 7, 192)    0           ['batch_normalization_533[0][0]']\n",
            "                                                                                                  \n",
            " activation_538 (Activation)    (None, 7, 7, 192)    0           ['batch_normalization_538[0][0]']\n",
            "                                                                                                  \n",
            " activation_539 (Activation)    (None, 7, 7, 192)    0           ['batch_normalization_539[0][0]']\n",
            "                                                                                                  \n",
            " mixed7 (Concatenate)           (None, 7, 7, 768)    0           ['activation_530[0][0]',         \n",
            "                                                                  'activation_533[0][0]',         \n",
            "                                                                  'activation_538[0][0]',         \n",
            "                                                                  'activation_539[0][0]']         \n",
            "                                                                                                  \n",
            " conv2d_542 (Conv2D)            (None, 7, 7, 192)    147456      ['mixed7[0][0]']                 \n",
            "                                                                                                  \n",
            " batch_normalization_542 (Batch  (None, 7, 7, 192)   576         ['conv2d_542[0][0]']             \n",
            " Normalization)                                                                                   \n",
            "                                                                                                  \n",
            " activation_542 (Activation)    (None, 7, 7, 192)    0           ['batch_normalization_542[0][0]']\n",
            "                                                                                                  \n",
            " conv2d_543 (Conv2D)            (None, 7, 7, 192)    258048      ['activation_542[0][0]']         \n",
            "                                                                                                  \n",
            " batch_normalization_543 (Batch  (None, 7, 7, 192)   576         ['conv2d_543[0][0]']             \n",
            " Normalization)                                                                                   \n",
            "                                                                                                  \n",
            " activation_543 (Activation)    (None, 7, 7, 192)    0           ['batch_normalization_543[0][0]']\n",
            "                                                                                                  \n",
            " conv2d_540 (Conv2D)            (None, 7, 7, 192)    147456      ['mixed7[0][0]']                 \n",
            "                                                                                                  \n",
            " conv2d_544 (Conv2D)            (None, 7, 7, 192)    258048      ['activation_543[0][0]']         \n",
            "                                                                                                  \n",
            " batch_normalization_540 (Batch  (None, 7, 7, 192)   576         ['conv2d_540[0][0]']             \n",
            " Normalization)                                                                                   \n",
            "                                                                                                  \n",
            " batch_normalization_544 (Batch  (None, 7, 7, 192)   576         ['conv2d_544[0][0]']             \n",
            " Normalization)                                                                                   \n",
            "                                                                                                  \n",
            " activation_540 (Activation)    (None, 7, 7, 192)    0           ['batch_normalization_540[0][0]']\n",
            "                                                                                                  \n",
            " activation_544 (Activation)    (None, 7, 7, 192)    0           ['batch_normalization_544[0][0]']\n",
            "                                                                                                  \n",
            " conv2d_541 (Conv2D)            (None, 3, 3, 320)    552960      ['activation_540[0][0]']         \n",
            "                                                                                                  \n",
            " conv2d_545 (Conv2D)            (None, 3, 3, 192)    331776      ['activation_544[0][0]']         \n",
            "                                                                                                  \n",
            " batch_normalization_541 (Batch  (None, 3, 3, 320)   960         ['conv2d_541[0][0]']             \n",
            " Normalization)                                                                                   \n",
            "                                                                                                  \n",
            " batch_normalization_545 (Batch  (None, 3, 3, 192)   576         ['conv2d_545[0][0]']             \n",
            " Normalization)                                                                                   \n",
            "                                                                                                  \n",
            " activation_541 (Activation)    (None, 3, 3, 320)    0           ['batch_normalization_541[0][0]']\n",
            "                                                                                                  \n",
            " activation_545 (Activation)    (None, 3, 3, 192)    0           ['batch_normalization_545[0][0]']\n",
            "                                                                                                  \n",
            " max_pooling2d_23 (MaxPooling2D  (None, 3, 3, 768)   0           ['mixed7[0][0]']                 \n",
            " )                                                                                                \n",
            "                                                                                                  \n",
            " mixed8 (Concatenate)           (None, 3, 3, 1280)   0           ['activation_541[0][0]',         \n",
            "                                                                  'activation_545[0][0]',         \n",
            "                                                                  'max_pooling2d_23[0][0]']       \n",
            "                                                                                                  \n",
            " conv2d_550 (Conv2D)            (None, 3, 3, 448)    573440      ['mixed8[0][0]']                 \n",
            "                                                                                                  \n",
            " batch_normalization_550 (Batch  (None, 3, 3, 448)   1344        ['conv2d_550[0][0]']             \n",
            " Normalization)                                                                                   \n",
            "                                                                                                  \n",
            " activation_550 (Activation)    (None, 3, 3, 448)    0           ['batch_normalization_550[0][0]']\n",
            "                                                                                                  \n",
            " conv2d_547 (Conv2D)            (None, 3, 3, 384)    491520      ['mixed8[0][0]']                 \n",
            "                                                                                                  \n",
            " conv2d_551 (Conv2D)            (None, 3, 3, 384)    1548288     ['activation_550[0][0]']         \n",
            "                                                                                                  \n",
            " batch_normalization_547 (Batch  (None, 3, 3, 384)   1152        ['conv2d_547[0][0]']             \n",
            " Normalization)                                                                                   \n",
            "                                                                                                  \n",
            " batch_normalization_551 (Batch  (None, 3, 3, 384)   1152        ['conv2d_551[0][0]']             \n",
            " Normalization)                                                                                   \n",
            "                                                                                                  \n",
            " activation_547 (Activation)    (None, 3, 3, 384)    0           ['batch_normalization_547[0][0]']\n",
            "                                                                                                  \n",
            " activation_551 (Activation)    (None, 3, 3, 384)    0           ['batch_normalization_551[0][0]']\n",
            "                                                                                                  \n",
            " conv2d_548 (Conv2D)            (None, 3, 3, 384)    442368      ['activation_547[0][0]']         \n",
            "                                                                                                  \n",
            " conv2d_549 (Conv2D)            (None, 3, 3, 384)    442368      ['activation_547[0][0]']         \n",
            "                                                                                                  \n",
            " conv2d_552 (Conv2D)            (None, 3, 3, 384)    442368      ['activation_551[0][0]']         \n",
            "                                                                                                  \n",
            " conv2d_553 (Conv2D)            (None, 3, 3, 384)    442368      ['activation_551[0][0]']         \n",
            "                                                                                                  \n",
            " average_pooling2d_52 (AverageP  (None, 3, 3, 1280)  0           ['mixed8[0][0]']                 \n",
            " ooling2D)                                                                                        \n",
            "                                                                                                  \n",
            " conv2d_546 (Conv2D)            (None, 3, 3, 320)    409600      ['mixed8[0][0]']                 \n",
            "                                                                                                  \n",
            " batch_normalization_548 (Batch  (None, 3, 3, 384)   1152        ['conv2d_548[0][0]']             \n",
            " Normalization)                                                                                   \n",
            "                                                                                                  \n",
            " batch_normalization_549 (Batch  (None, 3, 3, 384)   1152        ['conv2d_549[0][0]']             \n",
            " Normalization)                                                                                   \n",
            "                                                                                                  \n",
            " batch_normalization_552 (Batch  (None, 3, 3, 384)   1152        ['conv2d_552[0][0]']             \n",
            " Normalization)                                                                                   \n",
            "                                                                                                  \n",
            " batch_normalization_553 (Batch  (None, 3, 3, 384)   1152        ['conv2d_553[0][0]']             \n",
            " Normalization)                                                                                   \n",
            "                                                                                                  \n",
            " conv2d_554 (Conv2D)            (None, 3, 3, 192)    245760      ['average_pooling2d_52[0][0]']   \n",
            "                                                                                                  \n",
            " batch_normalization_546 (Batch  (None, 3, 3, 320)   960         ['conv2d_546[0][0]']             \n",
            " Normalization)                                                                                   \n",
            "                                                                                                  \n",
            " activation_548 (Activation)    (None, 3, 3, 384)    0           ['batch_normalization_548[0][0]']\n",
            "                                                                                                  \n",
            " activation_549 (Activation)    (None, 3, 3, 384)    0           ['batch_normalization_549[0][0]']\n",
            "                                                                                                  \n",
            " activation_552 (Activation)    (None, 3, 3, 384)    0           ['batch_normalization_552[0][0]']\n",
            "                                                                                                  \n",
            " activation_553 (Activation)    (None, 3, 3, 384)    0           ['batch_normalization_553[0][0]']\n",
            "                                                                                                  \n",
            " batch_normalization_554 (Batch  (None, 3, 3, 192)   576         ['conv2d_554[0][0]']             \n",
            " Normalization)                                                                                   \n",
            "                                                                                                  \n",
            " activation_546 (Activation)    (None, 3, 3, 320)    0           ['batch_normalization_546[0][0]']\n",
            "                                                                                                  \n",
            " mixed9_0 (Concatenate)         (None, 3, 3, 768)    0           ['activation_548[0][0]',         \n",
            "                                                                  'activation_549[0][0]']         \n",
            "                                                                                                  \n",
            " concatenate_10 (Concatenate)   (None, 3, 3, 768)    0           ['activation_552[0][0]',         \n",
            "                                                                  'activation_553[0][0]']         \n",
            "                                                                                                  \n",
            " activation_554 (Activation)    (None, 3, 3, 192)    0           ['batch_normalization_554[0][0]']\n",
            "                                                                                                  \n",
            " mixed9 (Concatenate)           (None, 3, 3, 2048)   0           ['activation_546[0][0]',         \n",
            "                                                                  'mixed9_0[0][0]',               \n",
            "                                                                  'concatenate_10[0][0]',         \n",
            "                                                                  'activation_554[0][0]']         \n",
            "                                                                                                  \n",
            " conv2d_559 (Conv2D)            (None, 3, 3, 448)    917504      ['mixed9[0][0]']                 \n",
            "                                                                                                  \n",
            " batch_normalization_559 (Batch  (None, 3, 3, 448)   1344        ['conv2d_559[0][0]']             \n",
            " Normalization)                                                                                   \n",
            "                                                                                                  \n",
            " activation_559 (Activation)    (None, 3, 3, 448)    0           ['batch_normalization_559[0][0]']\n",
            "                                                                                                  \n",
            " conv2d_556 (Conv2D)            (None, 3, 3, 384)    786432      ['mixed9[0][0]']                 \n",
            "                                                                                                  \n",
            " conv2d_560 (Conv2D)            (None, 3, 3, 384)    1548288     ['activation_559[0][0]']         \n",
            "                                                                                                  \n",
            " batch_normalization_556 (Batch  (None, 3, 3, 384)   1152        ['conv2d_556[0][0]']             \n",
            " Normalization)                                                                                   \n",
            "                                                                                                  \n",
            " batch_normalization_560 (Batch  (None, 3, 3, 384)   1152        ['conv2d_560[0][0]']             \n",
            " Normalization)                                                                                   \n",
            "                                                                                                  \n",
            " activation_556 (Activation)    (None, 3, 3, 384)    0           ['batch_normalization_556[0][0]']\n",
            "                                                                                                  \n",
            " activation_560 (Activation)    (None, 3, 3, 384)    0           ['batch_normalization_560[0][0]']\n",
            "                                                                                                  \n",
            " conv2d_557 (Conv2D)            (None, 3, 3, 384)    442368      ['activation_556[0][0]']         \n",
            "                                                                                                  \n",
            " conv2d_558 (Conv2D)            (None, 3, 3, 384)    442368      ['activation_556[0][0]']         \n",
            "                                                                                                  \n",
            " conv2d_561 (Conv2D)            (None, 3, 3, 384)    442368      ['activation_560[0][0]']         \n",
            "                                                                                                  \n",
            " conv2d_562 (Conv2D)            (None, 3, 3, 384)    442368      ['activation_560[0][0]']         \n",
            "                                                                                                  \n",
            " average_pooling2d_53 (AverageP  (None, 3, 3, 2048)  0           ['mixed9[0][0]']                 \n",
            " ooling2D)                                                                                        \n",
            "                                                                                                  \n",
            " conv2d_555 (Conv2D)            (None, 3, 3, 320)    655360      ['mixed9[0][0]']                 \n",
            "                                                                                                  \n",
            " batch_normalization_557 (Batch  (None, 3, 3, 384)   1152        ['conv2d_557[0][0]']             \n",
            " Normalization)                                                                                   \n",
            "                                                                                                  \n",
            " batch_normalization_558 (Batch  (None, 3, 3, 384)   1152        ['conv2d_558[0][0]']             \n",
            " Normalization)                                                                                   \n",
            "                                                                                                  \n",
            " batch_normalization_561 (Batch  (None, 3, 3, 384)   1152        ['conv2d_561[0][0]']             \n",
            " Normalization)                                                                                   \n",
            "                                                                                                  \n",
            " batch_normalization_562 (Batch  (None, 3, 3, 384)   1152        ['conv2d_562[0][0]']             \n",
            " Normalization)                                                                                   \n",
            "                                                                                                  \n",
            " conv2d_563 (Conv2D)            (None, 3, 3, 192)    393216      ['average_pooling2d_53[0][0]']   \n",
            "                                                                                                  \n",
            " batch_normalization_555 (Batch  (None, 3, 3, 320)   960         ['conv2d_555[0][0]']             \n",
            " Normalization)                                                                                   \n",
            "                                                                                                  \n",
            " activation_557 (Activation)    (None, 3, 3, 384)    0           ['batch_normalization_557[0][0]']\n",
            "                                                                                                  \n",
            " activation_558 (Activation)    (None, 3, 3, 384)    0           ['batch_normalization_558[0][0]']\n",
            "                                                                                                  \n",
            " activation_561 (Activation)    (None, 3, 3, 384)    0           ['batch_normalization_561[0][0]']\n",
            "                                                                                                  \n",
            " activation_562 (Activation)    (None, 3, 3, 384)    0           ['batch_normalization_562[0][0]']\n",
            "                                                                                                  \n",
            " batch_normalization_563 (Batch  (None, 3, 3, 192)   576         ['conv2d_563[0][0]']             \n",
            " Normalization)                                                                                   \n",
            "                                                                                                  \n",
            " activation_555 (Activation)    (None, 3, 3, 320)    0           ['batch_normalization_555[0][0]']\n",
            "                                                                                                  \n",
            " mixed9_1 (Concatenate)         (None, 3, 3, 768)    0           ['activation_557[0][0]',         \n",
            "                                                                  'activation_558[0][0]']         \n",
            "                                                                                                  \n",
            " concatenate_11 (Concatenate)   (None, 3, 3, 768)    0           ['activation_561[0][0]',         \n",
            "                                                                  'activation_562[0][0]']         \n",
            "                                                                                                  \n",
            " activation_563 (Activation)    (None, 3, 3, 192)    0           ['batch_normalization_563[0][0]']\n",
            "                                                                                                  \n",
            " mixed10 (Concatenate)          (None, 3, 3, 2048)   0           ['activation_555[0][0]',         \n",
            "                                                                  'mixed9_1[0][0]',               \n",
            "                                                                  'concatenate_11[0][0]',         \n",
            "                                                                  'activation_563[0][0]']         \n",
            "                                                                                                  \n",
            "==================================================================================================\n",
            "Total params: 21,802,784\n",
            "Trainable params: 0\n",
            "Non-trainable params: 21,802,784\n",
            "__________________________________________________________________________________________________\n"
          ]
        }
      ],
      "source": [
        "pre_trained_model = create_pre_trained_model(local_weights_file)\n",
        "\n",
        "# Print the model summary\n",
        "pre_trained_model.summary()"
      ],
      "id": "ve7eh9iztT4q"
    },
    {
      "cell_type": "markdown",
      "metadata": {
        "id": "4cAY2gQytr0-"
      },
      "source": [
        "**Expected Output:**\n",
        "```\n",
        "batch_normalization_v1_281 (Bat (None, 3, 3, 192)    576         conv2d_281[0][0]                 \n",
        "__________________________________________________________________________________________________\n",
        "activation_273 (Activation)     (None, 3, 3, 320)    0           batch_normalization_v1_273[0][0] \n",
        "__________________________________________________________________________________________________\n",
        "mixed9_1 (Concatenate)          (None, 3, 3, 768)    0           activation_275[0][0]             \n",
        "                                                                activation_276[0][0]             \n",
        "__________________________________________________________________________________________________\n",
        "concatenate_5 (Concatenate)     (None, 3, 3, 768)    0           activation_279[0][0]             \n",
        "                                                                activation_280[0][0]             \n",
        "__________________________________________________________________________________________________\n",
        "activation_281 (Activation)     (None, 3, 3, 192)    0           batch_normalization_v1_281[0][0] \n",
        "__________________________________________________________________________________________________\n",
        "mixed10 (Concatenate)           (None, 3, 3, 2048)   0           activation_273[0][0]             \n",
        "                                                                mixed9_1[0][0]                   \n",
        "                                                                concatenate_5[0][0]              \n",
        "                                                                activation_281[0][0]             \n",
        "==================================================================================================\n",
        "Total params: 21,802,784\n",
        "Trainable params: 0\n",
        "Non-trainable params: 21,802,784\n",
        "\n",
        "\n",
        "```"
      ],
      "id": "4cAY2gQytr0-"
    },
    {
      "cell_type": "markdown",
      "metadata": {
        "id": "MRHkV9jo-hkh"
      },
      "source": [
        "To check that all the layers in the model were set to be non-trainable, you can also run the cell below:"
      ],
      "id": "MRHkV9jo-hkh"
    },
    {
      "cell_type": "code",
      "execution_count": 63,
      "metadata": {
        "id": "VASOaB8xDbhU",
        "tags": [
          "graded"
        ],
        "colab": {
          "base_uri": "https://localhost:8080/"
        },
        "outputId": "5bcc9a12-6ae3-414e-fd25-93e87adcde06"
      },
      "outputs": [
        {
          "output_type": "stream",
          "name": "stdout",
          "text": [
            "There are 21,802,784 total parameters in this model.\n",
            "There are 0 trainable parameters in this model.\n"
          ]
        }
      ],
      "source": [
        "total_params = pre_trained_model.count_params()\n",
        "num_trainable_params = sum([w.shape.num_elements() for w in pre_trained_model.trainable_weights])\n",
        "\n",
        "print(f\"There are {total_params:,} total parameters in this model.\")\n",
        "print(f\"There are {num_trainable_params:,} trainable parameters in this model.\")"
      ],
      "id": "VASOaB8xDbhU"
    },
    {
      "cell_type": "markdown",
      "metadata": {
        "id": "mRioO7FH5a8I"
      },
      "source": [
        "**Expected Output:**\n",
        "```\n",
        "There are 21,802,784 total parameters in this model.\n",
        "There are 0 trainable parameters in this model.\n",
        "```"
      ],
      "id": "mRioO7FH5a8I"
    },
    {
      "cell_type": "markdown",
      "metadata": {
        "id": "dFtwDyKj-4GR"
      },
      "source": [
        "## Creating callbacks for later\n",
        "\n",
        "You have already worked with callbacks in the first course of this specialization so the callback to stop training once an accuracy of 99.9% is reached, is provided for you:"
      ],
      "id": "dFtwDyKj-4GR"
    },
    {
      "cell_type": "code",
      "execution_count": 64,
      "metadata": {
        "id": "SeVjZD2o7gWS",
        "tags": [
          "graded"
        ]
      },
      "outputs": [],
      "source": [
        "# Define a Callback class that stops training once accuracy reaches 99.9%\n",
        "class myCallback(tf.keras.callbacks.Callback):\n",
        "  def on_epoch_end(self, epoch, logs={}):\n",
        "    if(logs.get('accuracy')>0.999):\n",
        "      print(\"\\nReached 99.9% accuracy so cancelling training!\")\n",
        "      self.model.stop_training = True"
      ],
      "id": "SeVjZD2o7gWS"
    },
    {
      "cell_type": "markdown",
      "metadata": {
        "id": "lHZnFl-5_p3a"
      },
      "source": [
        "## Pipelining the pre-trained model with your own\n",
        "\n",
        "Now that the pre-trained model is ready, you need to \"glue\" it to your own model to solve the task at hand.\n",
        "\n",
        "For this you will need the last output of the pre-trained model, since this will be the input for your own. Complete the `output_of_last_layer` function below.\n",
        "\n",
        "**Note:** For grading purposes use the `mixed7` layer as the last layer of the pre-trained model. However, after submitting feel free to come back here and play around with this."
      ],
      "id": "lHZnFl-5_p3a"
    },
    {
      "cell_type": "code",
      "execution_count": 65,
      "metadata": {
        "id": "CFsUlwdfs_wg",
        "tags": [
          "graded"
        ]
      },
      "outputs": [],
      "source": [
        "# GRADED FUNCTION: output_of_last_layer\n",
        "def output_of_last_layer(pre_trained_model):\n",
        "  \"\"\"\n",
        "  Gets the last layer output of a model\n",
        "  \n",
        "  Args:\n",
        "    pre_trained_model (tf.keras Model): model to get the last layer output from\n",
        "    \n",
        "  Returns:\n",
        "    last_output: output of the model's last layer \n",
        "  \"\"\"\n",
        "  ### START CODE HERE\n",
        "  last_desired_layer = pre_trained_model.get_layer('mixed7')\n",
        "  print('last layer output shape: ', last_desired_layer.output_shape)\n",
        "  last_output = last_desired_layer.output\n",
        "  print('last layer output: ', last_output)\n",
        "  ### END CODE HERE\n",
        "\n",
        "  return last_output\n"
      ],
      "id": "CFsUlwdfs_wg"
    },
    {
      "cell_type": "markdown",
      "metadata": {
        "id": "13AEzKG2A6_J"
      },
      "source": [
        "Check that everything works as expected:"
      ],
      "id": "13AEzKG2A6_J"
    },
    {
      "cell_type": "code",
      "execution_count": 66,
      "metadata": {
        "id": "zOJPUtMN6PHo",
        "tags": [
          "graded"
        ],
        "colab": {
          "base_uri": "https://localhost:8080/"
        },
        "outputId": "157f4311-7451-4393-c776-b08e0fbbe043"
      },
      "outputs": [
        {
          "output_type": "stream",
          "name": "stdout",
          "text": [
            "last layer output shape:  (None, 7, 7, 768)\n",
            "last layer output:  KerasTensor(type_spec=TensorSpec(shape=(None, 7, 7, 768), dtype=tf.float32, name=None), name='mixed7/concat:0', description=\"created by layer 'mixed7'\")\n"
          ]
        }
      ],
      "source": [
        "last_output = output_of_last_layer(pre_trained_model)"
      ],
      "id": "zOJPUtMN6PHo"
    },
    {
      "cell_type": "markdown",
      "metadata": {
        "id": "XqIWKZ_h7CuY"
      },
      "source": [
        "**Expected Output (if `mixed7` layer was used):**\n",
        "```\n",
        "last layer output shape:  (None, 7, 7, 768)\n",
        "last layer output:  KerasTensor(type_spec=TensorSpec(shape=(None, 7, 7, 768), dtype=tf.float32, name=None), name='mixed7/concat:0', description=\"created by layer 'mixed7'\")\n",
        "```"
      ],
      "id": "XqIWKZ_h7CuY"
    },
    {
      "cell_type": "markdown",
      "metadata": {
        "id": "0Rp-J6JuwJTq"
      },
      "source": [
        "Now you will create the final model by adding some additional layers on top of the pre-trained model.\n",
        "\n",
        "Complete the `create_final_model` function below. You will need to use Tensorflow's [Functional API](https://www.tensorflow.org/guide/keras/functional) for this since the pretrained model has been created using it. \n",
        "\n",
        "Let's double check this first:"
      ],
      "id": "0Rp-J6JuwJTq"
    },
    {
      "cell_type": "code",
      "execution_count": 67,
      "metadata": {
        "id": "cKQknB4j7K9y",
        "tags": [
          "graded"
        ],
        "colab": {
          "base_uri": "https://localhost:8080/"
        },
        "outputId": "9b35bd23-66a1-4a2f-e452-3642f75e8005"
      },
      "outputs": [
        {
          "output_type": "stream",
          "name": "stdout",
          "text": [
            "The pretrained model has type: <class 'keras.engine.functional.Functional'>\n"
          ]
        }
      ],
      "source": [
        "# Print the type of the pre-trained model\n",
        "print(f\"The pretrained model has type: {type(pre_trained_model)}\")"
      ],
      "id": "cKQknB4j7K9y"
    },
    {
      "cell_type": "markdown",
      "metadata": {
        "id": "Kt7AU7jP7LW9"
      },
      "source": [
        "To create the final model, you will use Keras' Model class by defining the appropriate inputs and outputs as described in the first way to instantiate a Model in the [docs](https://www.tensorflow.org/api_docs/python/tf/keras/Model).\n",
        "\n",
        "Note that you can get the input from any existing model by using its `input` attribute and by using the Funcional API you can use the last layer directly as output when creating the final model."
      ],
      "id": "Kt7AU7jP7LW9"
    },
    {
      "cell_type": "code",
      "execution_count": 68,
      "metadata": {
        "cellView": "code",
        "id": "BMXb913pbvFg",
        "tags": [
          "graded"
        ]
      },
      "outputs": [],
      "source": [
        "from tensorflow.python.ops.math_ops import xlogy\n",
        "# GRADED FUNCTION: create_final_model\n",
        "def create_final_model(pre_trained_model, last_output):\n",
        "  \"\"\"\n",
        "  Appends a custom model to a pre-trained model\n",
        "  \n",
        "  Args:\n",
        "    pre_trained_model (tf.keras Model): model that will accept the train/test inputs\n",
        "    last_output (tensor): last layer output of the pre-trained model\n",
        "    \n",
        "  Returns:\n",
        "    model: the combined model\n",
        "  \"\"\"\n",
        "  # Flatten the output layer to 1 dimension\n",
        "  x = layers.Flatten()(last_output)\n",
        "\n",
        "  ### START CODE HERE\n",
        "\n",
        "  # Add a fully connected layer with 1024 hidden units and ReLU activation\n",
        "  x = layers.Dense(1024, activation='relu')(x)\n",
        "  # Add a dropout rate of 0.2\n",
        "  x = layers.Dropout(rate=0.2)(x)  \n",
        "  # Add a final sigmoid layer for classification\n",
        "  x = layers.Dense(1, activation='sigmoid')(x)        \n",
        "\n",
        "  # Create the complete model by using the Model class\n",
        "  model = Model(inputs=pre_trained_model.input, outputs=x)\n",
        "\n",
        "  # Compile the model\n",
        "  model.compile(optimizer = RMSprop(learning_rate=0.0001), \n",
        "                loss = 'binary_crossentropy',\n",
        "                metrics = ['accuracy'])\n",
        "\n",
        "  ### END CODE HERE\n",
        "  \n",
        "  return model\n"
      ],
      "id": "BMXb913pbvFg"
    },
    {
      "cell_type": "code",
      "execution_count": 69,
      "metadata": {
        "id": "cL6ga5Z1783H",
        "tags": [
          "graded"
        ],
        "colab": {
          "base_uri": "https://localhost:8080/"
        },
        "outputId": "34face89-ed6b-47de-baf7-e48f640da271"
      },
      "outputs": [
        {
          "output_type": "stream",
          "name": "stdout",
          "text": [
            "There are 47,512,481 total parameters in this model.\n",
            "There are 38,537,217 trainable parameters in this model.\n"
          ]
        }
      ],
      "source": [
        "# Save your model in a variable\n",
        "model = create_final_model(pre_trained_model, last_output)\n",
        "\n",
        "# Inspect parameters\n",
        "total_params = model.count_params()\n",
        "num_trainable_params = sum([w.shape.num_elements() for w in model.trainable_weights])\n",
        "\n",
        "print(f\"There are {total_params:,} total parameters in this model.\")\n",
        "print(f\"There are {num_trainable_params:,} trainable parameters in this model.\")"
      ],
      "id": "cL6ga5Z1783H"
    },
    {
      "cell_type": "markdown",
      "metadata": {
        "id": "J4d3zlcQDrvm"
      },
      "source": [
        "**Expected Output:**\n",
        "```\n",
        "There are 47,512,481 total parameters in this model.\n",
        "There are 38,537,217 trainable parameters in this model.\n",
        "```"
      ],
      "id": "J4d3zlcQDrvm"
    },
    {
      "cell_type": "markdown",
      "metadata": {
        "id": "_eqwHj5xEBZ7"
      },
      "source": [
        "Wow, that is a lot of parameters!\n",
        "\n",
        "After submitting your assignment later, try re-running this notebook but use the original resolution of 300x300, you will be surprised to see how many more parameters are for that case.\n",
        "\n",
        "Now train the model:"
      ],
      "id": "_eqwHj5xEBZ7"
    },
    {
      "cell_type": "code",
      "execution_count": 70,
      "metadata": {
        "id": "Blhq2MAUeyGA",
        "tags": [],
        "colab": {
          "base_uri": "https://localhost:8080/"
        },
        "outputId": "cfb791ce-1fa7-4a85-ae4b-9607a39de3a7"
      },
      "outputs": [
        {
          "output_type": "stream",
          "name": "stdout",
          "text": [
            "Epoch 1/100\n",
            "33/33 [==============================] - 79s 2s/step - loss: 0.1310 - accuracy: 0.9572 - val_loss: 0.0237 - val_accuracy: 0.9883\n",
            "Epoch 2/100\n",
            "33/33 [==============================] - 66s 2s/step - loss: 0.0178 - accuracy: 0.9951 - val_loss: 0.0487 - val_accuracy: 0.9844\n",
            "Epoch 3/100\n",
            "33/33 [==============================] - ETA: 0s - loss: 0.0041 - accuracy: 0.9990\n",
            "Reached 99.9% accuracy so cancelling training!\n",
            "33/33 [==============================] - 63s 2s/step - loss: 0.0041 - accuracy: 0.9990 - val_loss: 0.0123 - val_accuracy: 0.9961\n"
          ]
        }
      ],
      "source": [
        "# Run this and see how many epochs it should take before the callback\n",
        "# fires, and stops training at 99.9% accuracy\n",
        "# (It should take a few epochs)\n",
        "callbacks = myCallback()\n",
        "history = model.fit(train_generator,\n",
        "                    validation_data = validation_generator,\n",
        "                    epochs = 100,\n",
        "                    verbose = 1,\n",
        "                    callbacks=callbacks)"
      ],
      "id": "Blhq2MAUeyGA"
    },
    {
      "cell_type": "markdown",
      "metadata": {
        "id": "Y94djl4t0sK5"
      },
      "source": [
        "The training should have stopped after less than 10 epochs and it should have reached an accuracy over 99,9% (firing the callback). This happened so quickly because of the pre-trained model you used, which already contained information to classify humans from horses. Really cool!\n",
        "\n",
        "Now take a quick look at the training and validation accuracies for each epoch of training:"
      ],
      "id": "Y94djl4t0sK5"
    },
    {
      "cell_type": "code",
      "execution_count": 71,
      "metadata": {
        "id": "C2Fp6Se9rKuL",
        "tags": [],
        "colab": {
          "base_uri": "https://localhost:8080/",
          "height": 298
        },
        "outputId": "f7b1459c-5544-474e-fde1-a34bd88e9c0d"
      },
      "outputs": [
        {
          "output_type": "display_data",
          "data": {
            "text/plain": [
              "<Figure size 432x288 with 1 Axes>"
            ],
            "image/png": "[encoded data removed]"
          },
          "metadata": {
            "needs_background": "light"
          }
        },
        {
          "output_type": "display_data",
          "data": {
            "text/plain": [
              "<Figure size 432x288 with 0 Axes>"
            ]
          },
          "metadata": {}
        }
      ],
      "source": [
        "# Plot the training and validation accuracies for each epoch\n",
        "\n",
        "acc = history.history['accuracy']\n",
        "val_acc = history.history['val_accuracy']\n",
        "loss = history.history['loss']\n",
        "val_loss = history.history['val_loss']\n",
        "\n",
        "epochs = range(len(acc))\n",
        "\n",
        "plt.plot(epochs, acc, 'r', label='Training accuracy')\n",
        "plt.plot(epochs, val_acc, 'b', label='Validation accuracy')\n",
        "plt.title('Training and validation accuracy')\n",
        "plt.legend(loc=0)\n",
        "plt.figure()\n",
        "\n",
        "plt.show()"
      ],
      "id": "C2Fp6Se9rKuL"
    },
    {
      "cell_type": "markdown",
      "metadata": {
        "id": "g-4-4i9U1a0s"
      },
      "source": [
        "You will need to submit this notebook for grading. To download it, click on the `File` tab in the upper left corner of the screen then click on `Download` -> `Download .ipynb`. You can name it anything you want as long as it is a valid `.ipynb` (jupyter notebook) file."
      ],
      "id": "g-4-4i9U1a0s"
    },
    {
      "cell_type": "markdown",
      "metadata": {
        "id": "7w54-pbB1W9r"
      },
      "source": [
        "**Congratulations on finishing this week's assignment!**\n",
        "\n",
        "You have successfully implemented a convolutional neural network that leverages a pre-trained network to help you solve the problem of classifying humans from horses.\n",
        "\n",
        "**Keep it up!**"
      ],
      "id": "7w54-pbB1W9r"
    }
  ],
  "metadata": {
    "accelerator": "GPU",
    "kernelspec": {
      "display_name": "Python 3",
      "language": "python",
      "name": "python3"
    },
    "language_info": {
      "codemirror_mode": {
        "name": "ipython",
        "version": 3
      },
      "file_extension": ".py",
      "mimetype": "text/x-python",
      "name": "python",
      "nbconvert_exporter": "python",
      "pygments_lexer": "ipython3",
      "version": "3.7.4"
    },
    "colab": {
      "provenance": [],
      "toc_visible": true
    }
  },
  "nbformat": 4,
  "nbformat_minor": 5
}